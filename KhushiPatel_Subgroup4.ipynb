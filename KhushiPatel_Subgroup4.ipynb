{
 "cells": [
  {
   "cell_type": "markdown",
   "id": "f8413c28",
   "metadata": {},
   "source": [
    "# Khushi Subgroup 4 - Bankruptcy Prediction Modeling."
   ]
  },
  {
   "cell_type": "markdown",
   "id": "d0c1a576",
   "metadata": {},
   "source": [
    "## 1. Importing Libraries"
   ]
  },
  {
   "cell_type": "code",
   "execution_count": 53,
   "id": "d281b497",
   "metadata": {},
   "outputs": [
    {
     "name": "stdout",
     "output_type": "stream",
     "text": [
      "Importing libraries\n",
      "Libraries imported successfully.\n",
      "\n"
     ]
    }
   ],
   "source": [
    "print(\"Importing libraries\")\n",
    "import pandas as pd\n",
    "import numpy as np\n",
    "import matplotlib.pyplot as plt\n",
    "import seaborn as sns\n",
    "from sklearn.ensemble import RandomForestClassifier, GradientBoostingClassifier\n",
    "from sklearn.neighbors import KNeighborsClassifier\n",
    "from sklearn.linear_model import LogisticRegression\n",
    "from sklearn.model_selection import cross_val_predict, StratifiedKFold\n",
    "from sklearn.ensemble import StackingClassifier\n",
    "from sklearn.metrics import confusion_matrix, classification_report\n",
    "from sklearn.metrics import accuracy_score, roc_auc_score, confusion_matrix, ConfusionMatrixDisplay\n",
    "\n",
    "import joblib\n",
    "import warnings\n",
    "warnings.filterwarnings('ignore')\n",
    "print(\"Libraries imported successfully.\\n\")"
   ]
  },
  {
   "cell_type": "markdown",
   "id": "87b04056",
   "metadata": {},
   "source": [
    "## 2. Loading the Cluster 4 Data"
   ]
  },
  {
   "cell_type": "code",
   "execution_count": 54,
   "id": "2a0ae692",
   "metadata": {},
   "outputs": [
    {
     "name": "stdout",
     "output_type": "stream",
     "text": [
      "Cluster 4 data shape: (1186, 31)\n",
      "\n"
     ]
    },
    {
     "data": {
      "text/html": [
       "<div>\n",
       "<style scoped>\n",
       "    .dataframe tbody tr th:only-of-type {\n",
       "        vertical-align: middle;\n",
       "    }\n",
       "\n",
       "    .dataframe tbody tr th {\n",
       "        vertical-align: top;\n",
       "    }\n",
       "\n",
       "    .dataframe thead th {\n",
       "        text-align: right;\n",
       "    }\n",
       "</style>\n",
       "<table border=\"1\" class=\"dataframe\">\n",
       "  <thead>\n",
       "    <tr style=\"text-align: right;\">\n",
       "      <th></th>\n",
       "      <th>ROA(C) before interest and depreciation before interest</th>\n",
       "      <th>Long-term Liability to Current Assets</th>\n",
       "      <th>Current Ratio</th>\n",
       "      <th>Inventory/Current Liability</th>\n",
       "      <th>Total expense/Assets</th>\n",
       "      <th>Operating Expense Rate</th>\n",
       "      <th>Long-term fund suitability ratio (A)</th>\n",
       "      <th>Current Asset Turnover Rate</th>\n",
       "      <th>Tax rate (A)</th>\n",
       "      <th>Revenue Per Share (Yuan ¥)</th>\n",
       "      <th>...</th>\n",
       "      <th>Operating Gross Margin</th>\n",
       "      <th>Cash flow rate</th>\n",
       "      <th>Average Collection Days</th>\n",
       "      <th>Degree of Financial Leverage (DFL)</th>\n",
       "      <th>Accounts Receivable Turnover</th>\n",
       "      <th>Net Value Growth Rate</th>\n",
       "      <th>Realized Sales Gross Profit Growth Rate</th>\n",
       "      <th>Cluster</th>\n",
       "      <th>Bankrupt?</th>\n",
       "      <th>Index</th>\n",
       "    </tr>\n",
       "  </thead>\n",
       "  <tbody>\n",
       "    <tr>\n",
       "      <th>0</th>\n",
       "      <td>0.271154</td>\n",
       "      <td>-0.270475</td>\n",
       "      <td>1.878165</td>\n",
       "      <td>-0.091866</td>\n",
       "      <td>0.933722</td>\n",
       "      <td>-0.710131</td>\n",
       "      <td>2.630791</td>\n",
       "      <td>-0.470798</td>\n",
       "      <td>-1.045346</td>\n",
       "      <td>0.118666</td>\n",
       "      <td>...</td>\n",
       "      <td>0.672501</td>\n",
       "      <td>0.945211</td>\n",
       "      <td>-0.097120</td>\n",
       "      <td>-0.119558</td>\n",
       "      <td>-0.153165</td>\n",
       "      <td>-0.003172</td>\n",
       "      <td>-0.071502</td>\n",
       "      <td>4</td>\n",
       "      <td>0</td>\n",
       "      <td>9</td>\n",
       "    </tr>\n",
       "    <tr>\n",
       "      <th>1</th>\n",
       "      <td>-0.074437</td>\n",
       "      <td>-0.261282</td>\n",
       "      <td>1.354726</td>\n",
       "      <td>0.185686</td>\n",
       "      <td>0.377035</td>\n",
       "      <td>-0.710025</td>\n",
       "      <td>0.156614</td>\n",
       "      <td>-0.470301</td>\n",
       "      <td>-1.045346</td>\n",
       "      <td>-1.336763</td>\n",
       "      <td>...</td>\n",
       "      <td>2.496470</td>\n",
       "      <td>-0.544932</td>\n",
       "      <td>-0.308210</td>\n",
       "      <td>0.064418</td>\n",
       "      <td>-0.114092</td>\n",
       "      <td>1.519756</td>\n",
       "      <td>-0.040943</td>\n",
       "      <td>4</td>\n",
       "      <td>0</td>\n",
       "      <td>14</td>\n",
       "    </tr>\n",
       "    <tr>\n",
       "      <th>2</th>\n",
       "      <td>-0.351847</td>\n",
       "      <td>-0.270475</td>\n",
       "      <td>0.975623</td>\n",
       "      <td>-0.123686</td>\n",
       "      <td>0.380794</td>\n",
       "      <td>-0.710112</td>\n",
       "      <td>-0.241325</td>\n",
       "      <td>-0.470802</td>\n",
       "      <td>-0.093674</td>\n",
       "      <td>-1.219224</td>\n",
       "      <td>...</td>\n",
       "      <td>0.617445</td>\n",
       "      <td>0.094899</td>\n",
       "      <td>0.251546</td>\n",
       "      <td>-0.119558</td>\n",
       "      <td>-0.191145</td>\n",
       "      <td>-0.151131</td>\n",
       "      <td>-0.071768</td>\n",
       "      <td>4</td>\n",
       "      <td>0</td>\n",
       "      <td>17</td>\n",
       "    </tr>\n",
       "    <tr>\n",
       "      <th>3</th>\n",
       "      <td>-0.027826</td>\n",
       "      <td>-0.270475</td>\n",
       "      <td>0.381026</td>\n",
       "      <td>-0.089767</td>\n",
       "      <td>0.812197</td>\n",
       "      <td>-0.710138</td>\n",
       "      <td>-0.070407</td>\n",
       "      <td>-0.470891</td>\n",
       "      <td>2.009904</td>\n",
       "      <td>-0.722190</td>\n",
       "      <td>...</td>\n",
       "      <td>0.866052</td>\n",
       "      <td>0.483440</td>\n",
       "      <td>-0.271413</td>\n",
       "      <td>-0.115045</td>\n",
       "      <td>-0.122260</td>\n",
       "      <td>-0.079203</td>\n",
       "      <td>-0.080136</td>\n",
       "      <td>4</td>\n",
       "      <td>0</td>\n",
       "      <td>35</td>\n",
       "    </tr>\n",
       "    <tr>\n",
       "      <th>4</th>\n",
       "      <td>0.405393</td>\n",
       "      <td>-0.270475</td>\n",
       "      <td>-0.302006</td>\n",
       "      <td>-0.116450</td>\n",
       "      <td>0.562597</td>\n",
       "      <td>-0.710162</td>\n",
       "      <td>-0.640080</td>\n",
       "      <td>-0.470868</td>\n",
       "      <td>-0.945435</td>\n",
       "      <td>0.165016</td>\n",
       "      <td>...</td>\n",
       "      <td>0.330922</td>\n",
       "      <td>0.027208</td>\n",
       "      <td>0.306025</td>\n",
       "      <td>-0.101199</td>\n",
       "      <td>-0.195406</td>\n",
       "      <td>-0.075601</td>\n",
       "      <td>-0.064658</td>\n",
       "      <td>4</td>\n",
       "      <td>0</td>\n",
       "      <td>39</td>\n",
       "    </tr>\n",
       "    <tr>\n",
       "      <th>5</th>\n",
       "      <td>-0.502686</td>\n",
       "      <td>-0.270475</td>\n",
       "      <td>0.667727</td>\n",
       "      <td>-0.065443</td>\n",
       "      <td>0.243768</td>\n",
       "      <td>-0.710160</td>\n",
       "      <td>-0.370061</td>\n",
       "      <td>-0.470834</td>\n",
       "      <td>-0.289752</td>\n",
       "      <td>-0.254211</td>\n",
       "      <td>...</td>\n",
       "      <td>-0.143270</td>\n",
       "      <td>-0.324854</td>\n",
       "      <td>-0.155056</td>\n",
       "      <td>0.062193</td>\n",
       "      <td>-0.144067</td>\n",
       "      <td>-0.146107</td>\n",
       "      <td>-0.050342</td>\n",
       "      <td>4</td>\n",
       "      <td>0</td>\n",
       "      <td>43</td>\n",
       "    </tr>\n",
       "    <tr>\n",
       "      <th>6</th>\n",
       "      <td>-1.094667</td>\n",
       "      <td>-0.270475</td>\n",
       "      <td>3.050714</td>\n",
       "      <td>-0.055006</td>\n",
       "      <td>0.873883</td>\n",
       "      <td>-0.710021</td>\n",
       "      <td>1.323025</td>\n",
       "      <td>-0.470473</td>\n",
       "      <td>-1.045346</td>\n",
       "      <td>-1.398206</td>\n",
       "      <td>...</td>\n",
       "      <td>0.788694</td>\n",
       "      <td>-1.718717</td>\n",
       "      <td>0.330100</td>\n",
       "      <td>-0.119558</td>\n",
       "      <td>-0.197233</td>\n",
       "      <td>-0.183896</td>\n",
       "      <td>1.180723</td>\n",
       "      <td>4</td>\n",
       "      <td>0</td>\n",
       "      <td>51</td>\n",
       "    </tr>\n",
       "    <tr>\n",
       "      <th>7</th>\n",
       "      <td>-1.093115</td>\n",
       "      <td>-0.270475</td>\n",
       "      <td>2.260008</td>\n",
       "      <td>0.002283</td>\n",
       "      <td>-0.233344</td>\n",
       "      <td>-0.710090</td>\n",
       "      <td>-0.578737</td>\n",
       "      <td>-0.470585</td>\n",
       "      <td>-1.045346</td>\n",
       "      <td>-1.352503</td>\n",
       "      <td>...</td>\n",
       "      <td>-0.665511</td>\n",
       "      <td>-0.755186</td>\n",
       "      <td>0.183047</td>\n",
       "      <td>-0.123469</td>\n",
       "      <td>-0.185365</td>\n",
       "      <td>0.104976</td>\n",
       "      <td>0.698789</td>\n",
       "      <td>4</td>\n",
       "      <td>0</td>\n",
       "      <td>52</td>\n",
       "    </tr>\n",
       "    <tr>\n",
       "      <th>8</th>\n",
       "      <td>0.427413</td>\n",
       "      <td>-0.270475</td>\n",
       "      <td>0.489038</td>\n",
       "      <td>-0.191490</td>\n",
       "      <td>0.607147</td>\n",
       "      <td>-0.710143</td>\n",
       "      <td>-0.299825</td>\n",
       "      <td>-0.470835</td>\n",
       "      <td>-1.045346</td>\n",
       "      <td>-0.270749</td>\n",
       "      <td>...</td>\n",
       "      <td>0.853899</td>\n",
       "      <td>0.105645</td>\n",
       "      <td>-0.265840</td>\n",
       "      <td>-0.111151</td>\n",
       "      <td>-0.123470</td>\n",
       "      <td>-0.077682</td>\n",
       "      <td>-0.052616</td>\n",
       "      <td>4</td>\n",
       "      <td>0</td>\n",
       "      <td>61</td>\n",
       "    </tr>\n",
       "    <tr>\n",
       "      <th>9</th>\n",
       "      <td>-1.284987</td>\n",
       "      <td>-0.270475</td>\n",
       "      <td>3.190245</td>\n",
       "      <td>3.611300</td>\n",
       "      <td>-1.412924</td>\n",
       "      <td>1.409128</td>\n",
       "      <td>-0.082209</td>\n",
       "      <td>-0.470849</td>\n",
       "      <td>-1.045346</td>\n",
       "      <td>-0.862965</td>\n",
       "      <td>...</td>\n",
       "      <td>-1.350734</td>\n",
       "      <td>2.912489</td>\n",
       "      <td>-0.934229</td>\n",
       "      <td>-0.119861</td>\n",
       "      <td>0.531831</td>\n",
       "      <td>-0.220445</td>\n",
       "      <td>-0.291549</td>\n",
       "      <td>4</td>\n",
       "      <td>0</td>\n",
       "      <td>62</td>\n",
       "    </tr>\n",
       "  </tbody>\n",
       "</table>\n",
       "<p>10 rows × 31 columns</p>\n",
       "</div>"
      ],
      "text/plain": [
       "    ROA(C) before interest and depreciation before interest  \\\n",
       "0                                           0.271154          \n",
       "1                                          -0.074437          \n",
       "2                                          -0.351847          \n",
       "3                                          -0.027826          \n",
       "4                                           0.405393          \n",
       "5                                          -0.502686          \n",
       "6                                          -1.094667          \n",
       "7                                          -1.093115          \n",
       "8                                           0.427413          \n",
       "9                                          -1.284987          \n",
       "\n",
       "    Long-term Liability to Current Assets   Current Ratio  \\\n",
       "0                               -0.270475        1.878165   \n",
       "1                               -0.261282        1.354726   \n",
       "2                               -0.270475        0.975623   \n",
       "3                               -0.270475        0.381026   \n",
       "4                               -0.270475       -0.302006   \n",
       "5                               -0.270475        0.667727   \n",
       "6                               -0.270475        3.050714   \n",
       "7                               -0.270475        2.260008   \n",
       "8                               -0.270475        0.489038   \n",
       "9                               -0.270475        3.190245   \n",
       "\n",
       "    Inventory/Current Liability   Total expense/Assets  \\\n",
       "0                     -0.091866               0.933722   \n",
       "1                      0.185686               0.377035   \n",
       "2                     -0.123686               0.380794   \n",
       "3                     -0.089767               0.812197   \n",
       "4                     -0.116450               0.562597   \n",
       "5                     -0.065443               0.243768   \n",
       "6                     -0.055006               0.873883   \n",
       "7                      0.002283              -0.233344   \n",
       "8                     -0.191490               0.607147   \n",
       "9                      3.611300              -1.412924   \n",
       "\n",
       "    Operating Expense Rate   Long-term fund suitability ratio (A)  \\\n",
       "0                -0.710131                               2.630791   \n",
       "1                -0.710025                               0.156614   \n",
       "2                -0.710112                              -0.241325   \n",
       "3                -0.710138                              -0.070407   \n",
       "4                -0.710162                              -0.640080   \n",
       "5                -0.710160                              -0.370061   \n",
       "6                -0.710021                               1.323025   \n",
       "7                -0.710090                              -0.578737   \n",
       "8                -0.710143                              -0.299825   \n",
       "9                 1.409128                              -0.082209   \n",
       "\n",
       "    Current Asset Turnover Rate   Tax rate (A)   Revenue Per Share (Yuan ¥)  \\\n",
       "0                     -0.470798      -1.045346                     0.118666   \n",
       "1                     -0.470301      -1.045346                    -1.336763   \n",
       "2                     -0.470802      -0.093674                    -1.219224   \n",
       "3                     -0.470891       2.009904                    -0.722190   \n",
       "4                     -0.470868      -0.945435                     0.165016   \n",
       "5                     -0.470834      -0.289752                    -0.254211   \n",
       "6                     -0.470473      -1.045346                    -1.398206   \n",
       "7                     -0.470585      -1.045346                    -1.352503   \n",
       "8                     -0.470835      -1.045346                    -0.270749   \n",
       "9                     -0.470849      -1.045346                    -0.862965   \n",
       "\n",
       "   ...   Operating Gross Margin   Cash flow rate   Average Collection Days  \\\n",
       "0  ...                 0.672501         0.945211                 -0.097120   \n",
       "1  ...                 2.496470        -0.544932                 -0.308210   \n",
       "2  ...                 0.617445         0.094899                  0.251546   \n",
       "3  ...                 0.866052         0.483440                 -0.271413   \n",
       "4  ...                 0.330922         0.027208                  0.306025   \n",
       "5  ...                -0.143270        -0.324854                 -0.155056   \n",
       "6  ...                 0.788694        -1.718717                  0.330100   \n",
       "7  ...                -0.665511        -0.755186                  0.183047   \n",
       "8  ...                 0.853899         0.105645                 -0.265840   \n",
       "9  ...                -1.350734         2.912489                 -0.934229   \n",
       "\n",
       "    Degree of Financial Leverage (DFL)   Accounts Receivable Turnover  \\\n",
       "0                            -0.119558                      -0.153165   \n",
       "1                             0.064418                      -0.114092   \n",
       "2                            -0.119558                      -0.191145   \n",
       "3                            -0.115045                      -0.122260   \n",
       "4                            -0.101199                      -0.195406   \n",
       "5                             0.062193                      -0.144067   \n",
       "6                            -0.119558                      -0.197233   \n",
       "7                            -0.123469                      -0.185365   \n",
       "8                            -0.111151                      -0.123470   \n",
       "9                            -0.119861                       0.531831   \n",
       "\n",
       "    Net Value Growth Rate   Realized Sales Gross Profit Growth Rate  Cluster  \\\n",
       "0               -0.003172                                 -0.071502        4   \n",
       "1                1.519756                                 -0.040943        4   \n",
       "2               -0.151131                                 -0.071768        4   \n",
       "3               -0.079203                                 -0.080136        4   \n",
       "4               -0.075601                                 -0.064658        4   \n",
       "5               -0.146107                                 -0.050342        4   \n",
       "6               -0.183896                                  1.180723        4   \n",
       "7                0.104976                                  0.698789        4   \n",
       "8               -0.077682                                 -0.052616        4   \n",
       "9               -0.220445                                 -0.291549        4   \n",
       "\n",
       "   Bankrupt?  Index  \n",
       "0          0      9  \n",
       "1          0     14  \n",
       "2          0     17  \n",
       "3          0     35  \n",
       "4          0     39  \n",
       "5          0     43  \n",
       "6          0     51  \n",
       "7          0     52  \n",
       "8          0     61  \n",
       "9          0     62  \n",
       "\n",
       "[10 rows x 31 columns]"
      ]
     },
     "execution_count": 54,
     "metadata": {},
     "output_type": "execute_result"
    }
   ],
   "source": [
    "df = pd.read_csv('df_cluster_4.csv')\n",
    "print(f\"Cluster 4 data shape: {df.shape}\\n\")\n",
    "df.head(10)"
   ]
  },
  {
   "cell_type": "markdown",
   "id": "929ca037",
   "metadata": {},
   "source": [
    "## 3. Preparing Features and Target"
   ]
  },
  {
   "cell_type": "code",
   "execution_count": 55,
   "id": "b34583ce",
   "metadata": {},
   "outputs": [
    {
     "name": "stdout",
     "output_type": "stream",
     "text": [
      "Number of features used: 28\n",
      "\n"
     ]
    }
   ],
   "source": [
    "X = df.drop(columns=['Cluster', 'Bankrupt?', 'Index'])\n",
    "y = df['Bankrupt?']\n",
    "print(f\"Number of features used: {X.shape[1]}\\n\")\n"
   ]
  },
  {
   "cell_type": "markdown",
   "id": "0bf971da",
   "metadata": {},
   "source": [
    "## 4. Selecting Top 5 Features"
   ]
  },
  {
   "cell_type": "code",
   "execution_count": 56,
   "id": "af6c23f5",
   "metadata": {},
   "outputs": [
    {
     "name": "stdout",
     "output_type": "stream",
     "text": [
      "Selecting Top 5 Features\n",
      "Top 5 Features Selected:\n",
      "[' Net Value Growth Rate', ' Total expense/Assets', ' ROA(C) before interest and depreciation before interest', ' Degree of Financial Leverage (DFL)', ' Total debt/Total net worth']\n"
     ]
    }
   ],
   "source": [
    "print(\"Selecting Top 5 Features\")\n",
    "rf_selector = RandomForestClassifier(n_estimators=100, random_state=42)\n",
    "rf_selector.fit(X, y)\n",
    "top_5_features = pd.Series(rf_selector.feature_importances_, index=X.columns).sort_values(ascending=False).head(5).index.tolist()\n",
    "X_keep = X[top_5_features]\n",
    "print(\"Top 5 Features Selected:\")\n",
    "print(top_5_features)"
   ]
  },
  {
   "cell_type": "markdown",
   "id": "586deca8",
   "metadata": {},
   "source": [
    "## 5. Defining Base Models and Meta Model"
   ]
  },
  {
   "cell_type": "markdown",
   "id": "3d132d1a",
   "metadata": {},
   "source": [
    "### Why These Base Models and Stacking Model Were Chosen\n",
    "\n",
    "- **Random Forest Classifier:**\n",
    "  A powerful ensemble method based on decision trees. It reduces overfitting, handles high-dimensional data well,\n",
    "  and provides feature importance, making it ideal for bankruptcy prediction tasks.\n",
    "\n",
    "- **K-Nearest Neighbors (KNN):**\n",
    "  A simple, instance-based learning algorithm that makes predictions based on proximity to neighboring data points.\n",
    "  It is useful because it makes no assumptions about the underlying data distribution.\n",
    "\n",
    "- **Gradient Boosting Classifier:**\n",
    "  An ensemble technique that builds weak learners sequentially to correct errors from previous learners.\n",
    "  It performs exceptionally well for structured tabular datasets and handles class imbalance with careful tuning.\n",
    "\n",
    "**Meta-Model:**\n",
    "\n",
    "- **Logistic Regression:**\n",
    "  A simple yet effective linear classifier that combines the outputs from base models.\n",
    "  Logistic regression avoids overfitting and provides strong generalization when using high-quality base model predictions."
   ]
  },
  {
   "cell_type": "code",
   "execution_count": 57,
   "id": "d99d5981-7d0e-4d18-aafb-6f613bebe811",
   "metadata": {},
   "outputs": [
    {
     "name": "stdout",
     "output_type": "stream",
     "text": [
      "Building stacking classifier\n",
      "Training accuracy (meta-model): 0.929\n",
      "\n",
      "Number of features used: 5\n"
     ]
    },
    {
     "data": {
      "image/png": "[encoded data removed]",
      "text/plain": [
       "<Figure size 640x480 with 2 Axes>"
      ]
     },
     "metadata": {},
     "output_type": "display_data"
    }
   ],
   "source": [
    "# Define base models\n",
    "base_models = [\n",
    "    ('rf', RandomForestClassifier(n_estimators=300, max_depth=10, random_state=42, class_weight = 'balanced')),\n",
    "    ('knn', KNeighborsClassifier(n_neighbors=5)),\n",
    "    ('gb', GradientBoostingClassifier(n_estimators=300, learning_rate=0.05, random_state=42))\n",
    "]\n",
    "\n",
    "# Define meta model\n",
    "meta_model = LogisticRegression(max_iter=1000, random_state=42 , class_weight = 'balanced')\n",
    "\n",
    "print(\"Building stacking classifier\")\n",
    "stacking_clf = StackingClassifier(\n",
    "    estimators=base_models,\n",
    "    final_estimator=meta_model,\n",
    "    cv=10,\n",
    "    passthrough=True\n",
    ")\n",
    "\n",
    "stacking_clf.fit(X_keep, y)\n",
    "\n",
    "train_acc_meta = stacking_clf.score(X_keep, y)\n",
    "print(f\"Training accuracy (meta-model): {train_acc_meta:.3f}\")\n",
    "\n",
    "n_features_used = X_keep.shape[1]\n",
    "print(f\"\\nNumber of features used: {n_features_used}\")\n",
    "\n",
    "y_pred_full = stacking_clf.predict(X_keep)\n",
    "\n",
    "# Confusion matrix\n",
    "ConfusionMatrixDisplay.from_predictions(\n",
    "    y, y_pred_full,\n",
    "    display_labels=[\"Healthy\", \"Bankrupt\"],\n",
    "    cmap=\"Blues\", values_format=\"d\"\n",
    ")\n",
    "plt.title(\"Confusion Matrix – Stacked Model Bankruptcy Classifier (Original Data)\")\n",
    "plt.tight_layout()\n",
    "plt.show()\n"
   ]
  },
  {
   "cell_type": "code",
   "execution_count": 58,
   "id": "e73fe9c2",
   "metadata": {},
   "outputs": [
    {
     "name": "stdout",
     "output_type": "stream",
     "text": [
      "\n",
      "Accuracy (Meta Model) [TT(TF)]: 0.929 [11(0)]\n"
     ]
    }
   ],
   "source": [
    "# Print Accuracy score [TT(TF)] for stacked model\n",
    "acc = accuracy_score(y, y_pred_full)\n",
    "\n",
    "# Compute TT (true bankrupt predicted bankrupt) and TF (false bankrupt predicted healthy)\n",
    "TT = ((y == 1) & (y_pred_full == 1)).sum()  # True Bankrupt predicted as Bankrupt\n",
    "TF = ((y == 1) & (y_pred_full == 0)).sum()  # True Bankrupt predicted as Healthy\n",
    "\n",
    "# Print final output in your desired format\n",
    "print(f\"\\nAccuracy (Meta Model) [TT(TF)]: {acc:.3f} [{TT}({TF})]\")"
   ]
  },
  {
   "cell_type": "code",
   "execution_count": 59,
   "id": "046d29c8-8eb6-47d5-9582-853801e68ddf",
   "metadata": {},
   "outputs": [
    {
     "name": "stdout",
     "output_type": "stream",
     "text": [
      "Training accuracy (Random Forest): 1.000 [11(0)]\n"
     ]
    },
    {
     "data": {
      "image/png": "[encoded data removed]",
      "text/plain": [
       "<Figure size 640x480 with 2 Axes>"
      ]
     },
     "metadata": {},
     "output_type": "display_data"
    },
    {
     "name": "stdout",
     "output_type": "stream",
     "text": [
      "Training accuracy (kNN): 0.991 [0(0)]\n"
     ]
    },
    {
     "data": {
      "image/png": "[encoded data removed]",
      "text/plain": [
       "<Figure size 640x480 with 2 Axes>"
      ]
     },
     "metadata": {},
     "output_type": "display_data"
    },
    {
     "name": "stdout",
     "output_type": "stream",
     "text": [
      "Training accuracy (Gradient Boost): 1.000 [11(0)]\n"
     ]
    },
    {
     "data": {
      "image/png": "[encoded data removed]",
      "text/plain": [
       "<Figure size 640x480 with 2 Axes>"
      ]
     },
     "metadata": {},
     "output_type": "display_data"
    },
    {
     "name": "stdout",
     "output_type": "stream",
     "text": [
      "\n",
      "Average training accuracy of base models: 0.997\n",
      "Average TT(TF): 7.3(0.0)\n"
     ]
    }
   ],
   "source": [
    "# Base Models' Avg Accuracy score, [TT(TF)], and Confusion Matrices\n",
    "\n",
    "base_model_accuracies = []\n",
    "base_model_TT = []\n",
    "base_model_TF = []\n",
    "\n",
    "def evaluate_model(model, X, y, model_name):\n",
    "    y_pred = model.predict(X)\n",
    "    acc = accuracy_score(y, y_pred)\n",
    "    cm = confusion_matrix(y, y_pred)\n",
    "    tn, fp, fn, tp = cm.ravel()\n",
    "    \n",
    "    base_model_accuracies.append(acc)\n",
    "    base_model_TT.append(tp)\n",
    "    base_model_TF.append(fp)\n",
    "    \n",
    "    print(f\"Training accuracy ({model_name}): {acc:.3f} [{tp}({fp})]\")\n",
    "    \n",
    "    # Plot confusion matrix\n",
    "    ConfusionMatrixDisplay(confusion_matrix=cm, display_labels=[\"Healthy\", \"Bankrupt\"]).plot(cmap=\"Blues\")\n",
    "    plt.title(f\"Confusion Matrix – {model_name}\")\n",
    "    plt.tight_layout()\n",
    "    plt.show()\n",
    "\n",
    "# --- evaluate each base model ---\n",
    "evaluate_model(stacking_clf.named_estimators_['rf'], X_keep, y, 'Random Forest')\n",
    "evaluate_model(stacking_clf.named_estimators_['knn'], X_keep, y, 'kNN')\n",
    "evaluate_model(stacking_clf.named_estimators_['gb'], X_keep, y, 'Gradient Boost')\n",
    "\n",
    "# --- compute and print average accuracy ---\n",
    "avg_base_acc = np.mean(base_model_accuracies)\n",
    "print(f\"\\nAverage training accuracy of base models: {avg_base_acc:.3f}\")\n",
    "\n",
    "avg_TT = np.mean(base_model_TT)\n",
    "avg_TF = np.mean(base_model_TF)\n",
    "print(f\"Average TT(TF): {avg_TT:.1f}({avg_TF:.1f})\")"
   ]
  },
  {
   "cell_type": "markdown",
   "id": "6719e733",
   "metadata": {},
   "source": [
    "## Saving Final Stacking Model"
   ]
  },
  {
   "cell_type": "code",
   "execution_count": 60,
   "id": "c7354da7",
   "metadata": {},
   "outputs": [
    {
     "name": "stdout",
     "output_type": "stream",
     "text": [
      "\n",
      "Saving final stacking model...\n",
      "Model saved successfully as 'cluster4_stacking_model.joblib'.\n"
     ]
    }
   ],
   "source": [
    "print(\"\\nSaving final stacking model...\")\n",
    "joblib.dump(stacking_clf, 'cluster4_stacking_model.joblib')\n",
    "print(\"Model saved successfully as 'cluster4_stacking_model.joblib'.\")"
   ]
  },
  {
   "cell_type": "code",
   "execution_count": 61,
   "id": "0b827bce-0ea7-4e89-a800-c1e75726651a",
   "metadata": {},
   "outputs": [
    {
     "name": "stdout",
     "output_type": "stream",
     "text": [
      "Saved selected features to cluster4_train_data.joblib\n"
     ]
    }
   ],
   "source": [
    "new_train_df = df[[' Net Value Growth Rate', ' Total expense/Assets', ' ROA(C) before interest and depreciation before interest', ' Degree of Financial Leverage (DFL)', ' Total debt/Total net worth']]\n",
    "joblib.dump(new_train_df, \"cluster4_train_data.joblib\")\n",
    "print(\"Saved selected features to cluster4_train_data.joblib\")"
   ]
  },
  {
   "cell_type": "code",
   "execution_count": null,
   "id": "8051964f-a344-4206-9e9d-13192c5504e1",
   "metadata": {},
   "outputs": [],
   "source": []
  }
 ],
 "metadata": {
  "kernelspec": {
   "display_name": "Python 3 (ipykernel)",
   "language": "python",
   "name": "python3"
  },
  "language_info": {
   "codemirror_mode": {
    "name": "ipython",
    "version": 3
   },
   "file_extension": ".py",
   "mimetype": "text/x-python",
   "name": "python",
   "nbconvert_exporter": "python",
   "pygments_lexer": "ipython3",
   "version": "3.12.8"
  }
 },
 "nbformat": 4,
 "nbformat_minor": 5
}
