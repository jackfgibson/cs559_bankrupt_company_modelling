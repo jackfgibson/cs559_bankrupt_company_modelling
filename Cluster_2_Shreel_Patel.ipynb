{
 "cells": [
  {
   "cell_type": "code",
   "execution_count": 1,
   "id": "015d3b78",
   "metadata": {},
   "outputs": [
    {
     "name": "stdout",
     "output_type": "stream",
     "text": [
      "Libraries imported successfully.\n",
      "\n"
     ]
    }
   ],
   "source": [
    "import pandas as pd\n",
    "import numpy as np\n",
    "from sklearn.preprocessing import PowerTransformer\n",
    "import scipy.stats as st\n",
    "from sklearn.preprocessing import StandardScaler\n",
    "from sklearn.feature_selection import VarianceThreshold\n",
    "from sklearn.cluster import KMeans\n",
    "from sklearn.model_selection import train_test_split\n",
    "from sklearn.ensemble import RandomForestClassifier\n",
    "import matplotlib.pyplot as plt\n",
    "import seaborn as sns\n",
    "import joblib\n",
    "from sklearn.decomposition import PCA\n",
    "from sklearn.metrics import silhouette_score\n",
    "import warnings\n",
    "warnings.filterwarnings('ignore')\n",
    "print(\"Libraries imported successfully.\\n\")"
   ]
  },
  {
   "cell_type": "code",
   "execution_count": 2,
   "id": "62eb04be",
   "metadata": {},
   "outputs": [
    {
     "name": "stdout",
     "output_type": "stream",
     "text": [
      "Training data loaded with shape: (5807, 97)\n",
      "\n"
     ]
    }
   ],
   "source": [
    "# Load Data\n",
    "df = pd.read_csv('train_data.csv')\n",
    "print(f\"Training data loaded with shape: {df.shape}\\n\")"
   ]
  },
  {
   "cell_type": "code",
   "execution_count": 3,
   "id": "b9d5bb58",
   "metadata": {},
   "outputs": [
    {
     "name": "stdout",
     "output_type": "stream",
     "text": [
      "Features shape after dropping Index and Target: (5807, 95)\n",
      "\n"
     ]
    }
   ],
   "source": [
    "y = df['Bankrupt?']\n",
    "idx_col = df['Index'].copy()\n",
    "X_raw = df.drop(columns=['Bankrupt?', 'Index'])\n",
    "print(f\"Features shape after dropping Index and Target: {X_raw.shape}\\n\")\n"
   ]
  },
  {
   "cell_type": "code",
   "execution_count": 4,
   "id": "972505d3",
   "metadata": {},
   "outputs": [
    {
     "name": "stdout",
     "output_type": "stream",
     "text": [
      "Applying PowerTransformer (Yeo-Johnson) to make features Gaussian...\n",
      "Transformation applied.\n",
      "\n"
     ]
    }
   ],
   "source": [
    "# Gaussian Transformation \n",
    "print(\"Applying PowerTransformer (Yeo-Johnson) to make features Gaussian...\")\n",
    "pt = PowerTransformer(method='yeo-johnson')\n",
    "X_gauss = pd.DataFrame(pt.fit_transform(X_raw), columns=X_raw.columns)\n",
    "print(\"Transformation applied.\\n\")"
   ]
  },
  {
   "cell_type": "code",
   "execution_count": 5,
   "id": "3582ec58-9431-470d-96cf-b69aa0282b98",
   "metadata": {},
   "outputs": [],
   "source": [
    "# kept = X_gauss.columns.tolist()\n",
    "# # print(f\"{len(kept)} features kept:\\n\", kept)\n",
    "# stats = X_gauss.agg(['mean', 'std', 'skew', 'kurt']).T.round(3)\n",
    "# # display(stats)  "
   ]
  },
  {
   "cell_type": "markdown",
   "id": "4a722ec9-9c3a-40d2-bfcc-02fb537bd122",
   "metadata": {},
   "source": [
    "From this we can see that many of these features have really high skew and kurtosis, we will filter to identify these heavy tailed features and then winsorize them. Winsorizing allows us to replace the top/bottom 1 % with the nearest percentile value, and reduce long tails without distorting middle mass. For cases where our skew is greater than 3 and the kurtosis is greater than 30 even after applying the Box-Cox normalization transform, we will apply this technique to further normalize the distribution of these heavy tailed features."
   ]
  },
  {
   "cell_type": "code",
   "execution_count": 6,
   "id": "61397336",
   "metadata": {},
   "outputs": [
    {
     "name": "stdout",
     "output_type": "stream",
     "text": [
      "Found 49 heavy-tailed features.\n",
      "\n"
     ]
    }
   ],
   "source": [
    "# Identify Heavy-Tailed Features and Winsorize\n",
    "stats = X_gauss.agg(['mean', 'std', 'skew', 'kurt']).T\n",
    "heavy_skew = stats.index[stats['skew'].abs() > 3]\n",
    "heavy_kurt = stats.index[stats['kurt'].abs() > 30]\n",
    "heavy_features = sorted(set(heavy_skew) | set(heavy_kurt))\n",
    "print(f\"Found {len(heavy_features)} heavy-tailed features.\\n\")\n",
    "\n",
    "def winsorize_series(s, p=0.01):\n",
    "    return pd.Series(st.mstats.winsorize(s, limits=[p, p]), index=s.index)\n",
    "\n",
    "X_wins = X_gauss.copy()\n",
    "for col in heavy_features:\n",
    "    X_wins[col] = winsorize_series(X_wins[col])\n",
    "# print(\"Winsorization completed.\\n\")\n"
   ]
  },
  {
   "cell_type": "code",
   "execution_count": 7,
   "id": "cebbeef3",
   "metadata": {},
   "outputs": [],
   "source": [
    "# Remove Highly Correlated Features\n",
    "def corr_filter(df, threshold=0.6):\n",
    "    corr = df.corr().abs()\n",
    "    upper = corr.where(np.triu(np.ones(corr.shape), k=1).astype(bool))\n",
    "    to_drop = [column for column in upper.columns if any(upper[column] > threshold)]\n",
    "    return df.drop(columns=to_drop)\n",
    "\n",
    "X_uncorr = corr_filter(X_wins)\n"
   ]
  },
  {
   "cell_type": "code",
   "execution_count": 8,
   "id": "ba49136c",
   "metadata": {},
   "outputs": [
    {
     "name": "stdout",
     "output_type": "stream",
     "text": [
      "Number of features after cleaning: 38\n",
      "\n"
     ]
    }
   ],
   "source": [
    "# Drop constant column manually if present\n",
    "if 'Net Income Flag' in X_uncorr.columns:\n",
    "    X_uncorr.drop(columns=['Net Income Flag'], inplace=True)\n",
    "print(f\"Number of features after cleaning: {len(X_uncorr.columns)}\\n\")\n",
    "selector = VarianceThreshold()\n",
    "selector.fit(X_uncorr)\n",
    "feature_variances = pd.Series(selector.variances_, index=X_uncorr.columns)\n",
    "selected_features = feature_variances.sort_values(ascending=False).head(28).index.tolist()\n",
    "X_final = X_uncorr[selected_features]\n",
    "\n",
    "# print(f\"Number of features after final selection: {len(X_final.columns)}\\n\")\n"
   ]
  },
  {
   "cell_type": "code",
   "execution_count": 9,
   "id": "7ebcfc50",
   "metadata": {},
   "outputs": [
    {
     "name": "stdout",
     "output_type": "stream",
     "text": [
      "Attaching cluster labels to data...\n",
      "KMeans clustering completed.\n",
      "\n",
      "\n",
      "Cluster composition:\n"
     ]
    },
    {
     "data": {
      "text/html": [
       "<div>\n",
       "<style scoped>\n",
       "    .dataframe tbody tr th:only-of-type {\n",
       "        vertical-align: middle;\n",
       "    }\n",
       "\n",
       "    .dataframe tbody tr th {\n",
       "        vertical-align: top;\n",
       "    }\n",
       "\n",
       "    .dataframe thead th {\n",
       "        text-align: right;\n",
       "    }\n",
       "</style>\n",
       "<table border=\"1\" class=\"dataframe\">\n",
       "  <thead>\n",
       "    <tr style=\"text-align: right;\">\n",
       "      <th></th>\n",
       "      <th>total</th>\n",
       "      <th>bankrupt</th>\n",
       "      <th>pct_bankrupt</th>\n",
       "    </tr>\n",
       "    <tr>\n",
       "      <th>cluster</th>\n",
       "      <th></th>\n",
       "      <th></th>\n",
       "      <th></th>\n",
       "    </tr>\n",
       "  </thead>\n",
       "  <tbody>\n",
       "    <tr>\n",
       "      <th>1</th>\n",
       "      <td>2200</td>\n",
       "      <td>70</td>\n",
       "      <td>0.031818</td>\n",
       "    </tr>\n",
       "    <tr>\n",
       "      <th>2</th>\n",
       "      <td>1060</td>\n",
       "      <td>78</td>\n",
       "      <td>0.073585</td>\n",
       "    </tr>\n",
       "    <tr>\n",
       "      <th>3</th>\n",
       "      <td>1361</td>\n",
       "      <td>39</td>\n",
       "      <td>0.028655</td>\n",
       "    </tr>\n",
       "    <tr>\n",
       "      <th>4</th>\n",
       "      <td>1186</td>\n",
       "      <td>11</td>\n",
       "      <td>0.009275</td>\n",
       "    </tr>\n",
       "  </tbody>\n",
       "</table>\n",
       "</div>"
      ],
      "text/plain": [
       "         total  bankrupt  pct_bankrupt\n",
       "cluster                               \n",
       "1         2200        70      0.031818\n",
       "2         1060        78      0.073585\n",
       "3         1361        39      0.028655\n",
       "4         1186        11      0.009275"
      ]
     },
     "metadata": {},
     "output_type": "display_data"
    }
   ],
   "source": [
    "# KMeans Clustering setup\n",
    "k = 4\n",
    "kmeans = KMeans(n_clusters=k, n_init=20, random_state=42)\n",
    "labels = kmeans.fit_predict(X_final) + 1\n",
    "\n",
    "\n",
    "print(\"Attaching cluster labels to data...\")\n",
    "clustered_df = X_final.copy()\n",
    "clustered_df['Cluster'] = labels\n",
    "clustered_df['Bankrupt?'] = y\n",
    "clustered_df['Index'] = idx_col\n",
    "print(\"KMeans clustering completed.\\n\")\n",
    "\n",
    "# Table to show cluster composition\n",
    "cluster_df = pd.DataFrame({\n",
    "    \"cluster\": labels,      # labels returned by km.fit_predict\n",
    "    \"bankrupt\": y.values    # 1 = bankrupt, 0 = healthy\n",
    "})\n",
    "\n",
    "# summary table: total firms, # bankrupt, % bankrupt per cluster\n",
    "summary = (\n",
    "    cluster_df\n",
    "    .groupby(\"cluster\")[\"bankrupt\"]\n",
    "    .agg(total   = \"count\",\n",
    "         bankrupt= \"sum\")\n",
    "    .assign(pct_bankrupt = lambda t: t[\"bankrupt\"] / t[\"total\"])\n",
    "    .sort_index()\n",
    ")\n",
    "\n",
    "print(\"\\nCluster composition:\")\n",
    "display(summary)            "
   ]
  },
  {
   "cell_type": "code",
   "execution_count": 10,
   "id": "e1c067ac",
   "metadata": {},
   "outputs": [
    {
     "name": "stdout",
     "output_type": "stream",
     "text": [
      "In‑sample accuracy: 1.000\n",
      "\n",
      "Top features by Gini importance:\n"
     ]
    },
    {
     "data": {
      "text/html": [
       "<div>\n",
       "<style scoped>\n",
       "    .dataframe tbody tr th:only-of-type {\n",
       "        vertical-align: middle;\n",
       "    }\n",
       "\n",
       "    .dataframe tbody tr th {\n",
       "        vertical-align: top;\n",
       "    }\n",
       "\n",
       "    .dataframe thead th {\n",
       "        text-align: right;\n",
       "    }\n",
       "</style>\n",
       "<table border=\"1\" class=\"dataframe\">\n",
       "  <thead>\n",
       "    <tr style=\"text-align: right;\">\n",
       "      <th></th>\n",
       "      <th>importance</th>\n",
       "    </tr>\n",
       "  </thead>\n",
       "  <tbody>\n",
       "    <tr>\n",
       "      <th>Fixed Assets Turnover Frequency</th>\n",
       "      <td>0.190429</td>\n",
       "    </tr>\n",
       "    <tr>\n",
       "      <th>Revenue per person</th>\n",
       "      <td>0.098763</td>\n",
       "    </tr>\n",
       "    <tr>\n",
       "      <th>Operating Expense Rate</th>\n",
       "      <td>0.085374</td>\n",
       "    </tr>\n",
       "    <tr>\n",
       "      <th>Research and development expense rate</th>\n",
       "      <td>0.078517</td>\n",
       "    </tr>\n",
       "    <tr>\n",
       "      <th>Revenue Per Share (Yuan ¥)</th>\n",
       "      <td>0.063894</td>\n",
       "    </tr>\n",
       "    <tr>\n",
       "      <th>Operating Gross Margin</th>\n",
       "      <td>0.047514</td>\n",
       "    </tr>\n",
       "    <tr>\n",
       "      <th>Allocation rate per person</th>\n",
       "      <td>0.047462</td>\n",
       "    </tr>\n",
       "    <tr>\n",
       "      <th>Long-term fund suitability ratio (A)</th>\n",
       "      <td>0.046532</td>\n",
       "    </tr>\n",
       "    <tr>\n",
       "      <th>Current Asset Turnover Rate</th>\n",
       "      <td>0.040945</td>\n",
       "    </tr>\n",
       "    <tr>\n",
       "      <th>Current Ratio</th>\n",
       "      <td>0.037730</td>\n",
       "    </tr>\n",
       "    <tr>\n",
       "      <th>Total expense/Assets</th>\n",
       "      <td>0.030729</td>\n",
       "    </tr>\n",
       "    <tr>\n",
       "      <th>Total debt/Total net worth</th>\n",
       "      <td>0.022090</td>\n",
       "    </tr>\n",
       "    <tr>\n",
       "      <th>Long-term Liability to Current Assets</th>\n",
       "      <td>0.017952</td>\n",
       "    </tr>\n",
       "    <tr>\n",
       "      <th>Current Liabilities/Liability</th>\n",
       "      <td>0.016605</td>\n",
       "    </tr>\n",
       "    <tr>\n",
       "      <th>Total assets to GNP price</th>\n",
       "      <td>0.013208</td>\n",
       "    </tr>\n",
       "    <tr>\n",
       "      <th>No-credit Interval</th>\n",
       "      <td>0.012535</td>\n",
       "    </tr>\n",
       "    <tr>\n",
       "      <th>Inventory/Current Liability</th>\n",
       "      <td>0.011655</td>\n",
       "    </tr>\n",
       "    <tr>\n",
       "      <th>Inventory Turnover Rate (times)</th>\n",
       "      <td>0.011281</td>\n",
       "    </tr>\n",
       "    <tr>\n",
       "      <th>Accounts Receivable Turnover</th>\n",
       "      <td>0.009221</td>\n",
       "    </tr>\n",
       "    <tr>\n",
       "      <th>Cash flow rate</th>\n",
       "      <td>0.009117</td>\n",
       "    </tr>\n",
       "  </tbody>\n",
       "</table>\n",
       "</div>"
      ],
      "text/plain": [
       "                                        importance\n",
       " Fixed Assets Turnover Frequency          0.190429\n",
       " Revenue per person                       0.098763\n",
       " Operating Expense Rate                   0.085374\n",
       " Research and development expense rate    0.078517\n",
       " Revenue Per Share (Yuan ¥)               0.063894\n",
       " Operating Gross Margin                   0.047514\n",
       " Allocation rate per person               0.047462\n",
       " Long-term fund suitability ratio (A)     0.046532\n",
       " Current Asset Turnover Rate              0.040945\n",
       " Current Ratio                            0.037730\n",
       " Total expense/Assets                     0.030729\n",
       " Total debt/Total net worth               0.022090\n",
       " Long-term Liability to Current Assets    0.017952\n",
       " Current Liabilities/Liability            0.016605\n",
       " Total assets to GNP price                0.013208\n",
       " No-credit Interval                       0.012535\n",
       " Inventory/Current Liability              0.011655\n",
       " Inventory Turnover Rate (times)          0.011281\n",
       " Accounts Receivable Turnover             0.009221\n",
       " Cash flow rate                           0.009117"
      ]
     },
     "metadata": {},
     "output_type": "display_data"
    },
    {
     "data": {
      "image/png": "[encoded data removed]",
      "text/plain": [
       "<Figure size 600x600 with 1 Axes>"
      ]
     },
     "metadata": {},
     "output_type": "display_data"
    }
   ],
   "source": [
    "# now, build a classification model that predicts which cluster a company will likely belong to \n",
    "\n",
    "# random forest classifier \n",
    "rf = RandomForestClassifier(\n",
    "        n_estimators = 500,     \n",
    "        max_depth    = None,   \n",
    "        random_state = 42,\n",
    "     ).fit(X_uncorr, labels)\n",
    "\n",
    "print(f\"In‑sample accuracy: {rf.score(X_uncorr, labels):.3f}\")\n",
    "\n",
    "# ---------------------------------------------------------------\n",
    "# 1.  GINI IMPORTANCE \n",
    "# ---------------------------------------------------------------\n",
    "gini_imp = pd.Series(rf.feature_importances_,\n",
    "                     index=X_uncorr.columns)\\\n",
    "             .sort_values(ascending=False)\n",
    "\n",
    "# ---------------------------------------------------------------\n",
    "# 2.  DISPLAY & PLOT TOP FEATURES\n",
    "# ---------------------------------------------------------------\n",
    "topN = 20                                   \n",
    "print(\"\\nTop features by Gini importance:\")\n",
    "display(gini_imp.head(topN).to_frame(\"importance\"))\n",
    "\n",
    "plt.figure(figsize=(6, topN*0.25+1))\n",
    "plt.barh(gini_imp.head(topN)[::-1].index,\n",
    "         gini_imp.head(topN)[::-1].values)\n",
    "plt.xlabel(\"Gini importance (mean decrease in impurity)\")\n",
    "plt.title(f\"Top {topN} influential features for cluster prediction\")\n",
    "plt.tight_layout(); plt.show()\n"
   ]
  },
  {
   "cell_type": "code",
   "execution_count": 18,
   "id": "4745e339-c686-4920-a3ef-b86b2373b091",
   "metadata": {},
   "outputs": [
    {
     "name": "stdout",
     "output_type": "stream",
     "text": [
      "Cluster 2 Class Distribution:\n",
      "0    0.926415\n",
      "1    0.073585\n",
      "Name: Bankrupt?, dtype: float64\n"
     ]
    }
   ],
   "source": [
    "# Filter Cluster 2 data\n",
    "cluster_2_mask = (labels == 2)\n",
    "\n",
    "X_cluster2 = X_uncorr[cluster_2_mask]\n",
    "y_cluster2 = y[cluster_2_mask]\n",
    "X_cluster2.columns = X_cluster2.columns.str.strip()\n",
    "selected_features = [\n",
    "    'Fixed Assets Turnover Frequency',\n",
    "    'Revenue per person',\n",
    "    'Operating Expense Rate',\n",
    "    'Research and development expense rate',\n",
    "    'Revenue Per Share (Yuan ¥)',\n",
    "    'Operating Gross Margin',\n",
    "    'Allocation rate per person',\n",
    "    'Long-term fund suitability ratio (A)',\n",
    "    'Current Asset Turnover Rate',\n",
    "    'Current Ratio',\n",
    "]\n",
    "\n",
    "X_cluster2=X_cluster2[selected_features]\n",
    "\n",
    "\n",
    "print(\"Cluster 2 Class Distribution:\")\n",
    "print(y_cluster2.value_counts(normalize=True))"
   ]
  },
  {
   "cell_type": "code",
   "execution_count": null,
   "id": "496efabd",
   "metadata": {},
   "outputs": [],
   "source": []
  },
  {
   "cell_type": "code",
   "execution_count": 19,
   "id": "621cdd8a",
   "metadata": {},
   "outputs": [],
   "source": [
    "from sklearn.ensemble import RandomForestClassifier, GradientBoostingClassifier\n",
    "from sklearn.svm import SVC\n",
    "from sklearn.neighbors import KNeighborsClassifier\n",
    "from sklearn.linear_model import LogisticRegression\n",
    "from sklearn.ensemble import StackingClassifier\n",
    "from sklearn.model_selection import StratifiedKFold, RandomizedSearchCV\n",
    "from imblearn.over_sampling import SMOTE\n",
    "from imblearn.pipeline import Pipeline as ImbPipeline\n",
    "\n",
    "# Base models (non-parametric)\n",
    "estimators = [\n",
    "    ('rf', RandomForestClassifier(class_weight='balanced', random_state=42)),\n",
    "    ('xgb', GradientBoostingClassifier(random_state=42)),\n",
    "    ('svm', SVC(kernel='rbf', probability=True, class_weight='balanced', random_state=42)),\n",
    "    ('knn', KNeighborsClassifier())\n",
    "]\n",
    "\n",
    "# Meta-model (logistic regression)\n",
    "meta_model = LogisticRegression(class_weight='balanced', max_iter=1000, random_state=42)\n",
    "\n",
    "# Cross-validation strategy\n",
    "cv = StratifiedKFold(n_splits=5, shuffle=True, random_state=42)\n",
    "\n",
    "# SMOTE for imbalance handling (only applied to training folds via pipeline)\n",
    "resampler = SMOTE(random_state=42)\n",
    "\n",
    "# Stacking classifier with SMOTE\n",
    "stacking_pipeline = ImbPipeline([\n",
    "    ('smote', resampler),\n",
    "    ('stack', StackingClassifier(estimators=estimators, final_estimator=meta_model, cv=cv))\n",
    "])"
   ]
  },
  {
   "cell_type": "code",
   "execution_count": 20,
   "id": "c3880d80",
   "metadata": {},
   "outputs": [
    {
     "name": "stdout",
     "output_type": "stream",
     "text": [
      "Base Models' Average Accuracy:\n",
      "rf: 0.888\n",
      "xgb: 0.853\n",
      "svm: 0.769\n",
      "knn: 0.814\n"
     ]
    }
   ],
   "source": [
    "from sklearn.model_selection import cross_val_score\n",
    "from sklearn.metrics import accuracy_score, make_scorer\n",
    "\n",
    "# Define accuracy scorer\n",
    "accuracy_scorer = make_scorer(accuracy_score)\n",
    "\n",
    "base_accuracy = {}\n",
    "for name, model in estimators:\n",
    "    # Pipeline with SMOTE for each base model\n",
    "    pipeline = ImbPipeline([\n",
    "        ('smote', SMOTE(random_state=42)),\n",
    "        ('model', model)\n",
    "    ])\n",
    "    \n",
    "    # Cross-validate using accuracy\n",
    "    scores = cross_val_score(pipeline, X_cluster2, y_cluster2, \n",
    "                            cv=cv, scoring=accuracy_scorer, n_jobs=-1)\n",
    "    base_accuracy[name] = scores.mean()\n",
    "\n",
    "print(\"Base Models' Average Accuracy:\")\n",
    "for name, score in base_accuracy.items():\n",
    "    print(f\"{name}: {score:.3f}\")"
   ]
  },
  {
   "cell_type": "code",
   "execution_count": 21,
   "id": "cfe68445",
   "metadata": {},
   "outputs": [
    {
     "name": "stdout",
     "output_type": "stream",
     "text": [
      "Best Accuracy (Bankruptcy): 0.924\n",
      "Best Params: {'stack__xgb__n_estimators': 300, 'stack__xgb__learning_rate': 0.1, 'stack__svm__C': 100, 'stack__rf__min_samples_leaf': 1, 'stack__rf__max_depth': 20, 'stack__knn__n_neighbors': 3}\n"
     ]
    }
   ],
   "source": [
    "from sklearn.metrics import make_scorer, recall_score\n",
    "\n",
    "# Custom scorer to optimize recall for bankruptcies (y=1)\n",
    "recall_scorer = make_scorer(recall_score, pos_label=1)\n",
    "\n",
    "# RandomizedSearchCV for efficient tuning\n",
    "\n",
    "param_grid = {\n",
    "    'stack__rf__max_depth': [None, 20, 30],  # Deeper trees\n",
    "    'stack__rf__min_samples_leaf': [1, 2],  # More flexible\n",
    "    'stack__xgb__n_estimators': [200, 300],  # More trees\n",
    "    'stack__xgb__learning_rate': [0.05, 0.1],\n",
    "    'stack__svm__C': [10, 100],  # Higher regularization\n",
    "    'stack__knn__n_neighbors': [3, 5]  # Fewer neighbors\n",
    "}\n",
    "\n",
    "search = RandomizedSearchCV(\n",
    "    stacking_pipeline,\n",
    "    param_grid,\n",
    "    n_iter=50,\n",
    "    scoring='accuracy',\n",
    "    cv=3,  # Reduced CV folds for more overfitting\n",
    "    n_jobs=-1\n",
    ")\n",
    "\n",
    "\n",
    "search.fit(X_cluster2, y_cluster2)\n",
    "best_model = search.best_estimator_\n",
    "print(f\"Best Accuracy (Bankruptcy): {search.best_score_:.3f}\")\n",
    "print(\"Best Params:\", search.best_params_)"
   ]
  },
  {
   "cell_type": "code",
   "execution_count": 22,
   "id": "49c2260b",
   "metadata": {},
   "outputs": [
    {
     "name": "stdout",
     "output_type": "stream",
     "text": [
      "\n",
      "Meta-Model (Stacking) Average Accuracy: 0.921\n"
     ]
    }
   ],
   "source": [
    "# Cross-validate the stacking model with accuracy\n",
    "stacking_scores = cross_val_score(best_model, X_cluster2, y_cluster2, \n",
    "                                 cv=cv, scoring=accuracy_scorer, n_jobs=-1)\n",
    "\n",
    "print(f\"\\nMeta-Model (Stacking) Average Accuracy: {stacking_scores.mean():.3f}\")"
   ]
  },
  {
   "cell_type": "code",
   "execution_count": 23,
   "id": "0e7b8599",
   "metadata": {},
   "outputs": [
    {
     "name": "stdout",
     "output_type": "stream",
     "text": [
      "\n",
      "Cluster 2 Bankruptcy Model Performance:\n",
      "Member Name: Shreel Patel\n",
      "Subgroup: Cluster 2\n",
      "Accuracy: 0.921\n",
      "\n",
      "Confusion Matrix:\n",
      "[[954  28]\n",
      " [ 56  22]]\n",
      "\n",
      "              precision    recall  f1-score   support\n",
      "\n",
      "     Healthy       0.94      0.97      0.96       982\n",
      "    Bankrupt       0.44      0.28      0.34        78\n",
      "\n",
      "    accuracy                           0.92      1060\n",
      "   macro avg       0.69      0.63      0.65      1060\n",
      "weighted avg       0.91      0.92      0.91      1060\n",
      "\n"
     ]
    },
    {
     "data": {
      "image/png": "[encoded data removed]",
      "text/plain": [
       "<Figure size 640x480 with 2 Axes>"
      ]
     },
     "metadata": {},
     "output_type": "display_data"
    },
    {
     "name": "stdout",
     "output_type": "stream",
     "text": [
      "\n",
      "Top 10 Bankruptcy Predictors in Cluster 2:\n",
      "Current Ratio                            0.181581\n",
      "Operating Gross Margin                   0.167609\n",
      "Current Asset Turnover Rate              0.118436\n",
      "Allocation rate per person               0.096469\n",
      "Long-term fund suitability ratio (A)     0.092254\n",
      "Revenue Per Share (Yuan ¥)               0.079014\n",
      "Revenue per person                       0.074774\n",
      "Fixed Assets Turnover Frequency          0.064441\n",
      "Research and development expense rate    0.062854\n",
      "Operating Expense Rate                   0.062566\n",
      "dtype: float64\n"
     ]
    }
   ],
   "source": [
    "from sklearn.metrics import classification_report, ConfusionMatrixDisplay, accuracy_score, confusion_matrix\n",
    "from sklearn.model_selection import (\n",
    "    cross_val_predict, \n",
    "   \n",
    ")\n",
    "\n",
    "\n",
    "# Cross-validated predictions\n",
    "y_pred = cross_val_predict(best_model, X_cluster2, y_cluster2, cv=cv, method='predict_proba')[:, 1]\n",
    "y_pred_binary = (y_pred >= 0.5).astype(int)\n",
    "\n",
    "# Calculate metrics\n",
    "accuracy = accuracy_score(y_cluster2, y_pred_binary)\n",
    "conf_mat = confusion_matrix(y_cluster2, y_pred_binary)\n",
    "report = classification_report(y_cluster2, y_pred_binary, target_names=['Healthy', 'Bankrupt'])\n",
    "\n",
    "# Print formatted results\n",
    "print(\"\\nCluster 2 Bankruptcy Model Performance:\")\n",
    "print(f\"Member Name: Shreel Patel\")\n",
    "print(f\"Subgroup: Cluster 2\")\n",
    "print(f\"Accuracy: {accuracy:.3f}\\n\")\n",
    "\n",
    "print(\"Confusion Matrix:\")\n",
    "print(conf_mat)\n",
    "print(\"\\n\" + report)\n",
    "\n",
    "# Confusion matrix visualization\n",
    "ConfusionMatrixDisplay.from_predictions(y_cluster2, y_pred_binary, \n",
    "                                      display_labels=['Healthy', 'Bankrupt'],\n",
    "                                      cmap='Blues')\n",
    "plt.title(\"Cluster 2 Confusion Matrix\")\n",
    "plt.show()\n",
    "\n",
    "# Feature importances\n",
    "rf_importances = best_model.named_steps['stack'].estimators_[0].feature_importances_\n",
    "top_features = pd.Series(rf_importances, index=X_cluster2.columns).sort_values(ascending=False).head(10)\n",
    "\n",
    "print(\"\\nTop 10 Bankruptcy Predictors in Cluster 2:\")\n",
    "print(top_features)"
   ]
  },
  {
   "cell_type": "code",
   "execution_count": 25,
   "id": "0f4f1593",
   "metadata": {},
   "outputs": [
    {
     "name": "stdout",
     "output_type": "stream",
     "text": [
      "Model and transformed data saved in artifacts/ directory\n"
     ]
    }
   ],
   "source": [
    "import os\n",
    "from joblib import dump\n",
    "os.makedirs('artifacts', exist_ok=True)\n",
    "\n",
    "# Save the trained model\n",
    "dump(best_model, 'artifacts/cluster2_bankruptcy_model.joblib')\n",
    "\n",
    "# Save the transformed training data (after SMOTE)\n",
    "\n",
    "X_resampled, y_resampled = best_model.named_steps['smote'].fit_resample(X_cluster2, y_cluster2)\n",
    "dump({'features': X_resampled, 'target': y_resampled}, 'artifacts/cluster2_transformed_data.joblib')\n",
    "\n",
    "print(\"Model and transformed data saved in artifacts/ directory\")"
   ]
  },
  {
   "cell_type": "code",
   "execution_count": null,
   "id": "44399fac",
   "metadata": {},
   "outputs": [],
   "source": []
  }
 ],
 "metadata": {
  "kernelspec": {
   "display_name": "Python 3 (ipykernel)",
   "language": "python",
   "name": "python3"
  },
  "language_info": {
   "codemirror_mode": {
    "name": "ipython",
    "version": 3
   },
   "file_extension": ".py",
   "mimetype": "text/x-python",
   "name": "python",
   "nbconvert_exporter": "python",
   "pygments_lexer": "ipython3",
   "version": "3.9.13"
  }
 },
 "nbformat": 4,
 "nbformat_minor": 5
}
